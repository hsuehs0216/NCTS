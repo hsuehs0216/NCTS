{
 "cells": [
  {
   "cell_type": "code",
   "execution_count": 1,
   "metadata": {},
   "outputs": [],
   "source": [
    "import numpy as np\n",
    "import matplotlib.pyplot as plt\n",
    "from mpl_toolkits import mplot3d\n",
    "from astropy import units as u\n",
    "from astropy import constants as const\n",
    "from scipy.integrate import solve_bvp"
   ]
  },
  {
   "cell_type": "code",
   "execution_count": 2,
   "metadata": {},
   "outputs": [],
   "source": [
    "# Global Variables\n",
    "GM2 =((const.G)*(1E11*u.solMass)).decompose()\n",
    "r_s = (15000*u.pc).decompose() # critical radius\n",
    "V_c = np.sqrt(GM2 / r_s) # Thermal Gas Circular Velocity at critical radius\n",
    "U_B0 = ((1E-15)*(u.erg/(u.cm**3))).decompose() # Constant Magnetic Energy Density in the Galaxy\n",
    "rho_s = 3000*(1.67E-27)*(u.kg/(u.m**3)) # Density at critical radius\n",
    "R_CT = (3.0/1.1) # Ratio between Cosmic Ray Pressure and Thermal Gas Pressu}re\n",
    "R_Trho = ((1.1*(u.eV/(u.cm)**3))/(rho_s)).decompose() # Ratio between Thermal Gas Pressure and density\n",
    "R_Crho = ((3.0*(u.eV/(u.cm)**3))/(rho_s)).decompose() # Ration between Cosmic Ray Pressure and density\n",
    "v_A0_2 = ((8*np.pi*U_B0) /(4*np.pi*rho_s)).decompose() # Alfven Velocity at critical radius\n",
    "\n",
    "#print(GM2, r_s, V_c, c_s, rho_s, R_Trho, R_Crho)"
   ]
  },
  {
   "cell_type": "code",
   "execution_count": 3,
   "metadata": {},
   "outputs": [],
   "source": [
    "# Defining functions\n",
    "\n",
    "#c_s = (34489)*((u.m)/(u.s))\n",
    "\n",
    "# c^2_s\n",
    "def c2_s(y, v, theta_c, theta, x, c_s):\n",
    "    a = 1/y\n",
    "    b = (5/3)*(R_Trho)*theta\n",
    "    c = (2/3)*(R_Crho)*theta_c\n",
    "    \n",
    "    d11 = v_eff2(x, y, v, c_s)\n",
    "    d12 = v\n",
    "    d13 = c_s\n",
    "    d1 = (v*c_s + v_eff2(x, y, v, c_s))\n",
    "    d21 = v*c_s\n",
    "    d22 = (2/3)*(np.sqrt(v_A0_2)/((x**2)*(np.sqrt(y))))\n",
    "    d2 = (v*c_s - (2/3)*(np.sqrt(v_A0_2)/((x**2)*(np.sqrt(y)))))\n",
    "    d3 = (v*c_s*v_eff2(x, y, v, c_s))\n",
    "    \n",
    "    d = (v*c_s + v_eff2(x, y, v, c_s))*\\\n",
    "    (v*c_s - (2/3)*(np.sqrt(v_A0_2)/((x**2)*(np.sqrt(y)))))/(v*c_s*v_eff2(x, y, v, c_s))\n",
    "    \n",
    "    #print(\"c2_s part\", b, d, d1, d2, d3, d21, d22, d11, d12, d13)\n",
    "    return a*(b + c*d)\n",
    "\n",
    "# v_eff (original v + v_A)\n",
    "def v_eff2(x, y, v, c_s):\n",
    "    v1 = c_s * v\n",
    "    v_A = np.sqrt(v_A0_2) / ((x**2)*np.sqrt(y))\n",
    "    return v1 + v_A\n",
    "\n",
    "# dv/dx (original dv/dr)\n",
    "def dv2dx(x, v, c_s):\n",
    "    #print(\"num\", V_c, c_s)\n",
    "    num = 2*v - ((V_c/c_s)**2)*(v/x)\n",
    "    dem = x*(v**2 - 1)\n",
    "    #print(\"function\", num, dem)\n",
    "    return num/dem\n",
    "\n",
    "# dtheta_c/dx (original dP_c/dr)\n",
    "def dtheta_c2dx(y, theta_c, v, dy, c_s):\n",
    "    a = theta_c/y\n",
    "    b = (v*c_s + v_eff2(x, y, v, c_s))/(2*v_eff2(x, y, v, c_s))\n",
    "    c = dy\n",
    "    return a*b*c\n",
    "\n",
    "# dtheta/dx (original dP/dr)\n",
    "def dtheta2dx(theta, theta_c, y, v, dy, c_s):\n",
    "    a = (5*theta)/(3*y)\n",
    "    b = ((4*theta_c)/(9*y))*R_CT\n",
    "    c = ((np.sqrt(v_A0_2)/((x**2)*np.sqrt(y)))*(v*c_s + v_eff2(x, y, v, c_s)))/(v*c_s*v_eff2(x, y, v, c_s))\n",
    "    return (a - b*c)*dy\n",
    "\n",
    "# dy/dx (original drho/dr)\n",
    "def dy2dx(x, y, v, theta, theta_c, c_s):\n",
    "    a = 1/((v**2)*(c_s**2))\n",
    "    \n",
    "    a1 = theta_c/y\n",
    "    b1 = (v*c_s + v_eff2(x, y, v, c_s))/(2*v_eff2(x, y, v, c_s))\n",
    "    \n",
    "    a2 = (5*theta)/(3*y)\n",
    "    b2 = ((4*theta_c)/(9*y))*R_CT\n",
    "    c2 = ((np.sqrt(v_A0_2)/((x**2)*np.sqrt(y)))*(v*c_s + v_eff2(x, y, v, c_s)))/(v*c_s*v_eff2(x, y, v, c_s))\n",
    "    \n",
    "    b = R_Trho*a*(a2 - b2*c2)\n",
    "    c = R_Crho*a*(a1*b1)\n",
    "    d = a*((y*(V_c**2))/(x**2))\n",
    "    e = (2*y)/x\n",
    "    return (d - e)/(1 - b - c)\n",
    "\n"
   ]
  },
  {
   "cell_type": "code",
   "execution_count": 4,
   "metadata": {
    "scrolled": true
   },
   "outputs": [],
   "source": [
    "# Iterations & Integrations\n",
    "Iteration = 5000 #resolution (can change for better result)\n",
    "\n",
    "#Initial value for x and step counts\n",
    "x02 = 1\n",
    "x_max2 = 10\n",
    "\n",
    "X2 = np.linspace(x02, x_max2, Iteration) #range of x-axis that we are integrating\n",
    "x_step2 = (x_max2 - x02)/Iteration\n",
    "\n",
    "# Initial values for all functions (can change to adjust whenever)\n",
    "v = 1.1 # Velocity\n",
    "y = 1 # Density\n",
    "theta = 1 # Thermal Gas Pressure\n",
    "theta_c = 1 # Cosmic Ray Pressure\n",
    "c_s = (344890)*((u.m)/(u.s)) #IC for sound speed\n",
    "\n",
    "\n",
    "# Empty Arrrays for Appending All Unknown Functions\n",
    "V2 = np.array([])\n",
    "Y = np.array([])\n",
    "Theta = np.array([])\n",
    "Theta_C = np.array([])\n",
    "C_s = np.array([])*((u.m)/(u.s))\n",
    "\n",
    "# Integration Process\n",
    "for x in X2:\n",
    "    \n",
    "    #c_s = np.sqrt(c2_s(y, v, theta_c, x, c_s))\n",
    "    #print(\"inputs\", x , v, c_s)\n",
    "    kv1 = x_step2 * dv2dx(x, v, c_s)\n",
    "    ky1 = x_step2 * dy2dx(x, y, v, theta, theta_c, c_s)\n",
    "    ktheta_c1 = x_step2 * dtheta_c2dx(y, theta_c, v, dy2dx(x, y, v, theta, theta_c, c_s), c_s)\n",
    "    ktheta1 = x_step2 * dtheta2dx(theta, theta_c, y, v, dy2dx(x, y, v, theta, theta_c, c_s), c_s)\n",
    "    \n",
    "    kv2 = x_step2 * dv2dx(x+0.5*x_step2, v+0.5*kv1, c_s)\n",
    "    ky2 = x_step2 * dy2dx(x+0.5*x_step2, y+0.5*ky1, v+0.5*kv1, theta+0.5*ktheta1, theta_c+0.5*ktheta_c1, c_s)\n",
    "    ktheta_c2 = x_step2 * dtheta_c2dx(y+0.5*ky1, theta_c+0.5*ktheta_c1, v+0.5*kv1,\n",
    "                                    dy2dx(x+0.5*x_step2, y+0.5*ky1, v+0.5*kv1, theta+0.5*ktheta1, \n",
    "                                         theta_c+0.5*ktheta_c1, c_s), c_s)\n",
    "    ktheta2 = x_step2 * dtheta2dx(theta+0.5*ktheta1, theta_c+0.5*ktheta_c1, y+0.5*ky1, v+0.5*kv1,\n",
    "                                dy2dx(x+0.5*x_step2, y+0.5*ky1, v+0.5*kv1, theta+0.5*ktheta1, \n",
    "                                         theta_c+0.5*ktheta_c1, c_s), c_s)\n",
    "    \n",
    "    kv3 = x_step2 * dv2dx(x+0.5*x_step2, v+0.5*kv2, c_s)\n",
    "    ky3 = x_step2 * dy2dx(x+0.5*x_step2, y+0.5*ky2, v+0.5*kv2, theta+0.5*ktheta2, theta_c+0.5*ktheta_c2, c_s)\n",
    "    ktheta_c3 = x_step2 * dtheta_c2dx(y+0.5*ky2, theta_c+0.5*ktheta_c2, v+0.5*kv2,\n",
    "                                    dy2dx(x+0.5*x_step2, y+0.5*ky2, v+0.5*kv2, theta+0.5*ktheta2,\n",
    "                                         theta_c+0.5*ktheta_c2, c_s), c_s)\n",
    "    ktheta3 = x_step2 * dtheta2dx(theta+0.5*ktheta2, theta_c+0.5*ktheta_c2, y+0.5*ky2, v+0.5*kv2,\n",
    "                                dy2dx(x+0.5*x_step2, y+0.5*ky2, v+0.5*kv2, theta+0.5*ktheta2,\n",
    "                                         theta_c+0.5*ktheta_c2, c_s), c_s)\n",
    "    \n",
    "    kv4 = x_step2 * dv2dx(x+x_step2, v+kv3, c_s)\n",
    "    ky4 = x_step2 * dy2dx(x+x_step2, y+ky3, v+kv3, theta+ktheta3, theta_c+ktheta_c3, c_s)\n",
    "    ktheta_c4 = x_step2 * dtheta_c2dx(y+ky3, theta_c+ktheta_c3, v+kv3,\n",
    "                                    dy2dx(x+x_step2, y+ky3, v+kv3, theta+ktheta3, theta_c+ktheta_c3, c_s), c_s)\n",
    "    ktheta4 = x_step2 * dtheta2dx(theta+ktheta3, theta_c+ktheta_c3, y+ky3, v+kv3,\n",
    "                                dy2dx(x+x_step2, y+ky3, v+kv3, theta+ktheta3, theta_c+ktheta_c3, c_s), c_s)\n",
    "    \n",
    "    v += (kv1 +2*kv2 + 2*kv3 + kv4)/6\n",
    "    #print(\"v\", v)\n",
    "    y += (ky1 +2*ky2 + 2*ky3 + ky4)/6\n",
    "    theta_c += (ktheta_c1 + 2*ktheta_c2 + 2*ktheta_c3 + ktheta_c4)/6\n",
    "    theta += (ktheta1 + 2*ktheta2 + 2*ktheta3 + ktheta4)/6\n",
    "    \n",
    "    #print(\"input for c2_s\", y, v, theta_c, theta, x, c_s)\n",
    "    \n",
    "    c_s = np.sqrt(c2_s(y, v, theta_c, theta, x, c_s))\n",
    "    C_s = np.append(C_s, c_s)\n",
    "    \n",
    "    V2 = np.append(V2, v)\n",
    "    Y = np.append(Y, y)\n",
    "    Theta_C = np.append(Theta_C, theta_c)\n",
    "    Theta = np.append(Theta, theta)\n",
    "    \n"
   ]
  },
  {
   "cell_type": "code",
   "execution_count": 5,
   "metadata": {},
   "outputs": [
    {
     "data": {
      "text/plain": [
       "Text(0.5, 1.0, 'Outflow Solution for v(r)')"
      ]
     },
     "execution_count": 5,
     "metadata": {},
     "output_type": "execute_result"
    },
    {
     "data": {
      "image/png": "[encoded data removed]",
      "text/plain": [
       "<Figure size 432x288 with 1 Axes>"
      ]
     },
     "metadata": {
      "needs_background": "light"
     },
     "output_type": "display_data"
    }
   ],
   "source": [
    "plt.plot(X2, V2)\n",
    "plt.xlabel(\"x = r/r_s\")\n",
    "plt.ylabel(\"u(x) = v(r)/c_s\")\n",
    "plt.title(\"Outflow Solution for v(r)\")"
   ]
  },
  {
   "cell_type": "code",
   "execution_count": 6,
   "metadata": {},
   "outputs": [
    {
     "data": {
      "text/plain": [
       "<matplotlib.legend.Legend at 0x7fbdd782eca0>"
      ]
     },
     "execution_count": 6,
     "metadata": {},
     "output_type": "execute_result"
    },
    {
     "data": {
      "image/png": "[encoded data removed]",
      "text/plain": [
       "<Figure size 432x288 with 1 Axes>"
      ]
     },
     "metadata": {
      "needs_background": "light"
     },
     "output_type": "display_data"
    }
   ],
   "source": [
    "plt.plot(X2, np.log(Y), label = \"density\")\n",
    "plt.plot(X2, np.log(Theta), label = \"Thermal gas\")\n",
    "plt.plot(X2, np.log(Theta_C), label = \"Cosmic ray\")\n",
    "plt.xlabel(\"x = r/r_s\")\n",
    "plt.ylabel(\"log(y(x)) = log(rho(r)/rho_s)\")\n",
    "plt.title(\"Outflow Solution for log(rho(r))\")\n",
    "plt.legend()"
   ]
  },
  {
   "cell_type": "code",
   "execution_count": 7,
   "metadata": {},
   "outputs": [
    {
     "data": {
      "text/plain": [
       "Text(0.5, 1.0, 'Outflow Solution for log(P(r))')"
      ]
     },
     "execution_count": 7,
     "metadata": {},
     "output_type": "execute_result"
    },
    {
     "data": {
      "image/png": "[encoded data removed]",
      "text/plain": [
       "<Figure size 432x288 with 1 Axes>"
      ]
     },
     "metadata": {
      "needs_background": "light"
     },
     "output_type": "display_data"
    }
   ],
   "source": [
    "plt.plot(X2, np.log(Theta))\n",
    "plt.plot(X2, np.log(Theta_C))\n",
    "plt.xlabel(\"x = r/r_s\")\n",
    "plt.ylabel(\"log(theta(x)) = log(P(r)/P_0)\")\n",
    "plt.title(\"Outflow Solution for log(P(r))\")"
   ]
  },
  {
   "cell_type": "code",
   "execution_count": 8,
   "metadata": {},
   "outputs": [
    {
     "data": {
      "text/plain": [
       "Text(0.5, 1.0, 'Outflow Solution for log(P_C(r))')"
      ]
     },
     "execution_count": 8,
     "metadata": {},
     "output_type": "execute_result"
    },
    {
     "data": {
      "image/png": "[encoded data removed]",
      "text/plain": [
       "<Figure size 432x288 with 1 Axes>"
      ]
     },
     "metadata": {
      "needs_background": "light"
     },
     "output_type": "display_data"
    }
   ],
   "source": [
    "plt.plot(X2, np.log(Theta_C))\n",
    "plt.xlabel(\"x = r/r_s\")\n",
    "plt.ylabel(\"log(theta_c(x)) = log(P_C(r)/P_C,0)\")\n",
    "plt.title(\"Outflow Solution for log(P_C(r))\")"
   ]
  },
  {
   "cell_type": "code",
   "execution_count": 9,
   "metadata": {},
   "outputs": [
    {
     "name": "stdout",
     "output_type": "stream",
     "text": [
      "1.1154365868018379 1.0652846116843864 431870.3675475722 m / s\n"
     ]
    }
   ],
   "source": [
    "# Checking Values at the Boundary \n",
    "print(V2[0], Y[0], C_s[0])"
   ]
  },
  {
   "cell_type": "markdown",
   "metadata": {},
   "source": [
    "## Getting The Mass Needed to Supply Star Formation in the Galaxy\n",
    "\n",
    "\\begin{equation}\n",
    "    v_{BC} = (\\frac{1}{{N}{\\epsilon}}) * (\\frac{M_{F}}{{\\rho_{BC}}{A}{t_{dyn}}}) = (\\frac{1}{{N}{\\epsilon}}) * (\\frac{R_{SF}}{{\\rho_{BC}}{A}})\n",
    "\\end{equation}\n",
    "\n",
    "\\begin{equation}\n",
    "\\Downarrow\n",
    "\\end{equation}\n",
    "\n",
    "\\begin{equation}\n",
    "    R_{SF} = v_{BC} N \\epsilon \\rho_{BC} A\n",
    "\\end{equation}\n",
    "\n",
    "\n",
    "\n",
    "- $R_{SF}$ is the Star Formation Rate\n",
    "- $\\epsilon$ is the star formation efficieny in the galaxy\n",
    "- $\\rho_{BC}$ is the density of the cosmic ray at the boundary (critical radius)\n",
    "- $A$ is the cross section of the stream\n",
    "- $N$ is the number of stream being supply into the galaxy\n",
    "- $v_{BC}$ os the velocity of the gas at the boundary (critical radius)"
   ]
  },
  {
   "cell_type": "code",
   "execution_count": 10,
   "metadata": {},
   "outputs": [
    {
     "name": "stdout",
     "output_type": "stream",
     "text": [
      "481724.0087181191 m / s 5.337075904538776e-24 kg / m3 1.0768456645602818e+41 m2\n"
     ]
    }
   ],
   "source": [
    "# Getting The Value Star Formation Rate Needed\n",
    "v_BC = (V2[0])*(C_s[0])\n",
    "rho_BC = (Y[0])*rho_s\n",
    "N = 9* u.dimensionless_unscaled\n",
    "ep = 0.1* u.dimensionless_unscaled\n",
    "A = ((np.pi) * (6000 * u.pc) * (6000 * u.pc)).decompose()\n",
    "\n",
    "\n",
    "print(v_BC, rho_BC, A)"
   ]
  },
  {
   "cell_type": "code",
   "execution_count": 11,
   "metadata": {},
   "outputs": [
    {
     "name": "stdout",
     "output_type": "stream",
     "text": [
      "3.9545375273951726 solMass / yr\n"
     ]
    }
   ],
   "source": [
    "R_SF = v_BC * rho_BC * N * ep * A\n",
    "\n",
    "print((R_SF).to(u.solMass/u.year))"
   ]
  },
  {
   "cell_type": "code",
   "execution_count": null,
   "metadata": {},
   "outputs": [],
   "source": []
  },
  {
   "cell_type": "code",
   "execution_count": null,
   "metadata": {},
   "outputs": [],
   "source": []
  }
 ],
 "metadata": {
  "kernelspec": {
   "display_name": "Python 3",
   "language": "python",
   "name": "python3"
  },
  "language_info": {
   "codemirror_mode": {
    "name": "ipython",
    "version": 3
   },
   "file_extension": ".py",
   "mimetype": "text/x-python",
   "name": "python",
   "nbconvert_exporter": "python",
   "pygments_lexer": "ipython3",
   "version": "3.8.3"
  }
 },
 "nbformat": 4,
 "nbformat_minor": 4
}
