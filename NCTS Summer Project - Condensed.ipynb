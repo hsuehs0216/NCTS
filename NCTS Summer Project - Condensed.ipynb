{
 "cells": [
  {
   "cell_type": "code",
   "execution_count": 1,
   "metadata": {},
   "outputs": [],
   "source": [
    "import numpy as np\n",
    "import matplotlib.pyplot as plt\n",
    "from mpl_toolkits import mplot3d\n",
    "from astropy import units as u\n",
    "from astropy import constants as const\n",
    "from scipy.integrate import solve_bvp"
   ]
  },
  {
   "cell_type": "markdown",
   "metadata": {},
   "source": [
    "# Project Step One: Cold Stream Properties"
   ]
  },
  {
   "cell_type": "markdown",
   "metadata": {},
   "source": [
    "## Flow Velocity model\n",
    "\n",
    "- Star Formation Rate of galaxy (efficieny)\n",
    "- Number of flows\n",
    "- Size of flow (covering fraction of galaxy disk)\n",
    "- Density of gas\n",
    "\n",
    "- Later: more self-consistent HD flow treatment (variable width, velocity, density)"
   ]
  },
  {
   "cell_type": "markdown",
   "metadata": {},
   "source": [
    "- Time scale: use free fall time scale instead\n",
    "\\begin{equation}\n",
    "    t_{ff} \\sim \\frac{1}{\\sqrt{\\rho G}}\n",
    "\\end{equation}\n",
    "\n",
    "- Efficiency: $10\\% \\sim 30\\%$ for SFR\n",
    "- Cross-section: covers $10\\% \\sim 50\\%$ of the Galaxy\n",
    "- General result/value for the flow rate:\n",
    "\\begin{equation}\n",
    "    Q \\approx 1000 \\sim 10000 km/s\n",
    "\\end{equation}"
   ]
  },
  {
   "cell_type": "markdown",
   "metadata": {},
   "source": [
    "- Equation:\n",
    "\n",
    "\\begin{equation}\n",
    "    Q(\\epsilon_{SF}) = (\\frac{1}{{N_{F}}{\\epsilon_{SF}}}) * (\\frac{M_{F}}{{\\rho_{F}}{A_{F}}{t_{dyn}}}) = (\\frac{1}{{N_{F}}{\\epsilon_{SF}}}) * (\\frac{R_{SF}}{{\\rho_{F}}{A_{F}}})\n",
    "\\end{equation}"
   ]
  },
  {
   "cell_type": "code",
   "execution_count": 2,
   "metadata": {},
   "outputs": [],
   "source": [
    "## Fixed Variables\n",
    "M_F = 5E11 * u.solMass # How much total mass does the flows have\n",
    "\n",
    "G = const.G # The Gravitational Constant\n",
    "\n",
    "N_F = 3 * u.dimensionless_unscaled # Number of flows that are present for the model\n",
    "\n",
    "A_F = (np.pi) * (2000 * u.pc) * (2000 * u.pc) # The corss section of the stream (or the pipe) of flow\n",
    "\n",
    "rho_F = 1E-19 * ((1*u.kg) * (1/u.m) * (1/u.m) * (1/u.m)) # The density of the stream\n",
    "\n",
    "t_dyn = 1 / np.sqrt(rho_F * G) # The free fall time for gas to fall into Galaxy\n",
    "\n",
    "e_SF1 = 0.1 * u.dimensionless_unscaled # Star formation efficieny at 10%\n",
    "e_SF2 = 0.2 * u.dimensionless_unscaled # Star formation efficieny at 20%\n",
    "e_SF3 = 0.3 * u.dimensionless_unscaled # Star formation efficieny at 30%\n",
    "\n",
    "## Varying Variables\n",
    "R_SF = np.linspace(3, 100, num=100)*(1 * u.solMass)*(1/u.yr) # Star Formation Rate \n",
    "                                    # (usual value of 3 M_sol/yr to starburst value of 100M_sol/yr)\n",
    "\n",
    "## Function for flow rate (linear)\n",
    "\n",
    "def Q(e):\n",
    "    a = 1/ (N_F * e)\n",
    "    b = rho_F * A_F\n",
    "    c = R_SF / b\n",
    "    d = a * c\n",
    "    e = d.decompose()\n",
    "    return e.to(u.km/u.s)"
   ]
  },
  {
   "cell_type": "code",
   "execution_count": 3,
   "metadata": {},
   "outputs": [
    {
     "data": {
      "text/plain": [
       "Text(0.5, 1.0, 'Flow Velocity vs Star Formation Rate')"
      ]
     },
     "execution_count": 3,
     "metadata": {},
     "output_type": "execute_result"
    },
    {
     "data": {
      "image/png": "[encoded data removed]",
      "text/plain": [
       "<Figure size 432x288 with 1 Axes>"
      ]
     },
     "metadata": {
      "needs_background": "light"
     },
     "output_type": "display_data"
    }
   ],
   "source": [
    "## Plots for the initial model\n",
    "plt.plot(R_SF, Q(e_SF1))\n",
    "plt.plot(R_SF, Q(e_SF2))\n",
    "plt.plot(R_SF, Q(e_SF3))\n",
    "plt.xlabel(\"SFR (dimensionless)\")\n",
    "plt.ylabel(\"Flow Rate (km/s)\")\n",
    "plt.title(\"Flow Velocity vs Star Formation Rate\")"
   ]
  },
  {
   "cell_type": "markdown",
   "metadata": {},
   "source": [
    "# Project Step 2: Accretion Flow Model"
   ]
  },
  {
   "cell_type": "markdown",
   "metadata": {},
   "source": [
    "- Usually need 3 equations to deal with a thermal fluid flow\n",
    "\n",
    "- Let's try a simple isothermal inflow model (so can avoid dealing with the energy equation for now)\n",
    "\\begin{equation}\n",
    "    P = c^2_{s} \\rho\n",
    "\\end{equation}\n",
    "- $c^2_{s}$ is the sound speed\n",
    "\n",
    "- For infow rate, same as before (SFR, efficieny), and this can be fixed for now\n",
    "\\begin{equation}\n",
    "    \\dot{M} = 4\\pi r^2 \\rho v\n",
    "\\end{equation}\n",
    "\n",
    "- Dealing things in spherical coordinates\n",
    "\n",
    "- Mass Continuity:\n",
    "\\begin{equation}\n",
    "    \\frac{1}{r^2} \\frac{d}{dr} (r^2 \\rho v) = 0\n",
    "\\end{equation}\n",
    "\n",
    "- Momentum:\n",
    "\\begin{equation}\n",
    "    \\rho v \\frac{dv}{dr} = -\\frac{dP}{dr} - \\rho\\frac{GM}{r^2}\n",
    "\\end{equation}\n",
    "\n",
    "- Boundary condition at a point where velocity is soundspeed, where $\\frac{dv}{dr} = 0$\n",
    "\n",
    "## Task\n",
    "- Try to make a plot for $\\rho(r)$ and $v(r)$, where $r$ is in units of $r_s$\n",
    "- Try analytical and numerical (python odeint solver)\n",
    "- Deal with CR effect later (there are some forces from their pressure gradient, and energy from CR heating - so won't be isothermal)"
   ]
  },
  {
   "cell_type": "markdown",
   "metadata": {},
   "source": [
    "## Key Equations and Analysis\n",
    "\n",
    "\\begin{equation}\n",
    "    c_{s} = \\sqrt{\\frac{GM}{2r_{s}}} \\Leftarrow\\Rightarrow r_{s} = \\frac{GM}{2c^2_{s}}\n",
    "\\end{equation}\n",
    "\n",
    "- Overall, equations are very sensitive to initial coniditons and boundary conditions\n",
    "- For outflow solution:\n",
    "    - Expect terminal velocity to be reached\n",
    "    - Density should decrease with radius\n",
    "\\begin{equation}\n",
    "    \\frac{dv}{dr} = - \\frac{c^2_{s}}{\\rho v} \\frac{d\\rho}{dr} - \\frac{GM}{vr^2}\n",
    "\\end{equation}\n",
    "\n",
    "\\begin{equation}\n",
    "    \\frac{dv}{dr} \\approx  - \\frac{GM}{vr^2}\n",
    "\\end{equation}\n",
    "\n",
    "\\begin{equation}\n",
    "    \\frac{dv}{dr} = 0\n",
    "\\end{equation}\n",
    "\n",
    "\\begin{equation}\n",
    "    \\frac{d\\rho}{dr} = - \\frac{\\rho}{v} \\frac{dv}{dr} - \\frac{2}{r} \\rho\n",
    "\\end{equation}\n",
    "\n",
    "\\begin{equation}\n",
    "    \\frac{d\\rho}{dr} = \\frac{\\rho}{1 - \\frac{c^2_{s}}{v^2}} (\\frac{GM}{v^2 r^2} - \\frac{2}{r})\n",
    "\\end{equation}\n",
    "\n",
    "- For the expression $\\frac{dv}{dr}$:\n",
    "    - The first one is the general expression\n",
    "    - The second one is when it is near $r = r_s$ where we can estimate that $\\frac{d\\rho}{dr}$ is zero \n",
    "    - The third one is when it is at the critical radius $r_s$\n",
    "\n",
    "- for the expression $\\frac{d\\rho}{dr}$: \n",
    "    - The first one is in terms of $\\frac{dv}{dr}$\n",
    "    - The second one is the general expression\n",
    "\n",
    "### Revised Boundary Conditions for Outflow solution\n",
    "- For $v(r)$:\n",
    "    - Lower bound: the sound speed $c_s$\n",
    "    - Upper bound: a terminal velocty $v_t$, most likely use general terminal velocity expression\n",
    "\n",
    "- For $\\rho(r)$:\n",
    "    - Upper bound: $0$, since at an infinite distance the density should tend to zero"
   ]
  },
  {
   "cell_type": "markdown",
   "metadata": {},
   "source": [
    "## Rescaled Functions with $x = \\frac{r}{r_s}$"
   ]
  },
  {
   "cell_type": "code",
   "execution_count": 4,
   "metadata": {},
   "outputs": [],
   "source": [
    "GM =((const.G)*(1E9*u.solMass)).decompose() # [m^3/s^2]\n",
    "\n",
    "def fun_accret(x, y, p):\n",
    "    r_s = (p[0]*1000*(u.pc)).decompose() #the critical radius  [m]\n",
    "    \n",
    "    c_s_2 = (GM / (2*r_s)) #c_s^2 [m^2/s^2]\n",
    "    \n",
    "    v = y[0]*(u.m/u.s) # v(r) [m/s]\n",
    "    \n",
    "    rho = y[1]*(u.kg/(u.m**3)) #rho(r) [kg/m^3]\n",
    "    \n",
    "    # return value is dv/dr, drho/dr\n",
    "    \n",
    "    drho_units = ((rho / (1 - (c_s_2 / v**2)))*(((2*c_s_2)/((v**2)*((x)**2))) - (2/(x)))) #drho/dr [kg/m^3]\n",
    "    \n",
    "    #drho1 = (rho / (1 - (c_s_2 / v**2)))\n",
    "    #drho2 = ((2*c_s_2)/((v**2)*((x)**2)))\n",
    "    #drho3 =  - (2/(x))\n",
    "    \n",
    "    drho = (drho_units.to(\"kg/m^3\")).value\n",
    "    \n",
    "    dv1_units = - (c_s_2 / v)*(((1/rho)*(drho_units)) + (2/(x)**2)) #dv/dr [m/s]\n",
    "    \n",
    "    #dv11 = - (c_s_2 / v)\n",
    "    #dv12 = (1/rho)*(drho_units)\n",
    "    #dv13 = (2/(x)**2)\n",
    "    \n",
    "    dv1 = (dv1_units.to(\"km/s\")).value\n",
    "    \n",
    "    dv2_units = - (GM/(v*r_s*((x)**2))) #dv/dr [m/s]\n",
    "    \n",
    "    dv2 = (dv2_units.to(\"km/s\")).value\n",
    "    \n",
    "    if np.any(x == 1):\n",
    "        return np.vstack((dv2, drho))\n",
    "    else:\n",
    "        return np.vstack((dv1, drho))\n",
    "    \n",
    "    #print(dv11, dv12, dv13)\n",
    "\n",
    "def bc_accret(ya, yb, p):\n",
    "    r_s = (p[0]*1000*(u.pc)).decompose() #the critical radius [m]\n",
    "    \n",
    "    c_s_2 = (GM / (2*r_s)) #c_s^2 [m^2/s^2]\n",
    "    \n",
    "    return np.array([ya[0] - ((np.sqrt(c_s_2)).to(\"m/s\")).value, \n",
    "                     yb[0] - ((12000*(u.km/u.s)).to(\"m/s\")).value, \n",
    "                     yb[1] - ((1E-3)*(1.67E-27)*(u.kg/(u.m**3))).value])\n",
    "\n",
    "x_accret = np.linspace(1, 1000, 1000)\n",
    "y_accret = np.ones((2, x_accret.shape[0]))"
   ]
  },
  {
   "cell_type": "code",
   "execution_count": 5,
   "metadata": {},
   "outputs": [
    {
     "name": "stdout",
     "output_type": "stream",
     "text": [
      "   Iteration    Max residual  Max BC residual  Total nodes    Nodes added  \n",
      "       1          2.48e+06       7.50e+05         1000          (1998)     \n",
      "Number of nodes is exceeded after iteration 1. \n",
      "Maximum relative residual: 2.48e+06 \n",
      "Maximum boundary residual: 7.50e+05\n"
     ]
    },
    {
     "name": "stderr",
     "output_type": "stream",
     "text": [
      "/Users/stevenhsueh/opt/anaconda3/lib/python3.8/site-packages/astropy/units/quantity.py:477: RuntimeWarning: divide by zero encountered in true_divide\n",
      "  result = super().__array_ufunc__(function, method, *arrays, **kwargs)\n",
      "/Users/stevenhsueh/opt/anaconda3/lib/python3.8/site-packages/astropy/units/quantity.py:477: RuntimeWarning: invalid value encountered in multiply\n",
      "  result = super().__array_ufunc__(function, method, *arrays, **kwargs)\n"
     ]
    }
   ],
   "source": [
    "res_accret = solve_bvp(fun_accret, bc_accret, x_accret,\n",
    "                              y_accret, p=[1], verbose=2)"
   ]
  },
  {
   "cell_type": "code",
   "execution_count": 6,
   "metadata": {},
   "outputs": [
    {
     "data": {
      "text/plain": [
       "<matplotlib.legend.Legend at 0x7ff5d9e0f7f0>"
      ]
     },
     "execution_count": 6,
     "metadata": {},
     "output_type": "execute_result"
    },
    {
     "data": {
      "image/png": "[encoded data removed]",
      "text/plain": [
       "<Figure size 432x288 with 1 Axes>"
      ]
     },
     "metadata": {
      "needs_background": "light"
     },
     "output_type": "display_data"
    }
   ],
   "source": [
    "x_accret_plot = np.linspace(1, 100, 1000)\n",
    "y_accret_plot = res_accret.sol(x_accret_plot)\n",
    "\n",
    "#Plot for v(r)\n",
    "\n",
    "plt.plot(x_accret_plot, y_accret_plot[0], label=\"$v(r)$ - Outflow Solution\")\n",
    "plt.legend()"
   ]
  },
  {
   "cell_type": "code",
   "execution_count": 7,
   "metadata": {
    "scrolled": true
   },
   "outputs": [
    {
     "data": {
      "text/plain": [
       "<matplotlib.legend.Legend at 0x7ff5da61f790>"
      ]
     },
     "execution_count": 7,
     "metadata": {},
     "output_type": "execute_result"
    },
    {
     "data": {
      "image/png": "[encoded data removed]",
      "text/plain": [
       "<Figure size 432x288 with 1 Axes>"
      ]
     },
     "metadata": {
      "needs_background": "light"
     },
     "output_type": "display_data"
    }
   ],
   "source": [
    "#Plot for rho(r) scaled with log\n",
    "plt.plot(x_accret_plot, np.log(y_accret_plot[1]), label=\"$log(rho(r))$ - Outflow Solution\")\n",
    "plt.legend()"
   ]
  },
  {
   "cell_type": "markdown",
   "metadata": {},
   "source": [
    "## Rescaled With Both Axis - Fourth-Order Runge-Kutta Methods\n",
    "- Issues with units in the equations have been fixed, however, we clearly see a divergence behavour in the $v(r)$ plot\n",
    "- Next we will also try to rescale both $v(r)$ and $\\rho(r)$ with a reasonable choice of scale factors\n",
    "    - For $v(r)$, we will be scaling the function with $c_{s}$ which is the sound speed and is also the value of the velocity at $ r = r_{s}$; this allows us to have starting value of the graphs at (1,1)\n",
    "    - For $\\rho(r)$, we will be scaling the function with $\\rho_{c}$ which is an arbitrary density of the gas at the critical radius, and it can be defined as followed:\n",
    "    \n",
    "   \\begin{equation}\n",
    "       \\rho_{0} = \\frac{M_{rate}}{4 \\pi c_{s} r^2_{s}}\n",
    "   \\end{equation}\n",
    "   - where $M_{rate}$ is the mass injection rate from SN activity and feedback\n",
    "   - We will came to know that this arbitrary scale factor for the density will not show up in our rescaled ODEs, and only serves as a placeholder to help us get a trivial solutions"
   ]
  },
  {
   "cell_type": "markdown",
   "metadata": {},
   "source": [
    "\\begin{equation}\n",
    "    x = \\frac{r}{r_s}\n",
    "\\end{equation}\n",
    "\n",
    "\\begin{equation}\n",
    "    f(x) = \\frac{v(r)}{c_s}\n",
    "\\end{equation}\n",
    "    \n",
    "    \n",
    "\\begin{equation}    \n",
    "    h(x) = \\frac{\\rho(r)}{\\rho_0}\n",
    "\\end{equation}"
   ]
  },
  {
   "cell_type": "code",
   "execution_count": 8,
   "metadata": {},
   "outputs": [],
   "source": [
    "#Defining functions\n",
    "\n",
    "#dh/dx (the original drho/dr)\n",
    "def dhdx(x, f, h):\n",
    "    return h*((1 - (1/f**2))**(-1))*((2/((x**2)*(f**2))) - (2/x))\n",
    "\n",
    "#df/dx (the original dv/dr)\n",
    "def dfdx(x, f, h):\n",
    "    return (-1/f)*((1/h)*(dhdx(x, f, h)) + (2/x**2))\n",
    "\n",
    "iterations = 1000000 #resolutions\n",
    "\n",
    "x0 = 1.00001\n",
    "x_max = 100\n",
    "\n",
    "X = np.linspace(x0, x_max, iterations) #range of our x-axis\n",
    "x_step = (x_max - x0)/iterations\n",
    "\n",
    "\n",
    "# Initials value for f(x) and h(x)\n",
    "f = 1.00001\n",
    "h = 1 # Placeholder for initial assumptions (The graph is sensitive to this value)\n",
    "\n",
    "# Empty arrays for appending values\n",
    "F = []\n",
    "H = []\n",
    "\n",
    "# while true -> x+= x_step (potentially adding for checking end value)\n",
    "\n",
    "# Loop used for solving the ODEs\n",
    "for x in X:\n",
    "    kh1 = x_step * dhdx(x, f, h)\n",
    "    kf1 = x_step * dfdx(x, f, h)\n",
    "    \n",
    "    kh2 = x_step * dhdx(x+0.5*x_step, f+0.5*kf1, h+0.5*kh1)\n",
    "    kf2 = x_step * dfdx(x+0.5*x_step, f+0.5*kf1, h+0.5*kh1)\n",
    "    \n",
    "    kh3 = x_step * dhdx(x+0.5*x_step, f+0.5*kf2, h+0.5*kh2)\n",
    "    kf3 = x_step * dfdx(x+0.5*x_step, f+0.5*kf2, h+0.5*kh2)\n",
    "    \n",
    "    kh4 = x_step * dhdx(x+x_step, f+kf3, h+kh3)\n",
    "    kf4 = x_step * dfdx(x+x_step, f+kf3, h+kh3)\n",
    "    \n",
    "    h += (kh1 + 2*kh2 + 2*kh3 + kh4)/6\n",
    "    f += (kf1 + 2*kf2 + 2*kf3 + kf4)/6\n",
    "    \n",
    "    H.append(h)\n",
    "    F.append(f)"
   ]
  },
  {
   "cell_type": "code",
   "execution_count": 9,
   "metadata": {},
   "outputs": [
    {
     "name": "stdout",
     "output_type": "stream",
     "text": [
      "4.286195174148395 2.333158407713418e-05\n"
     ]
    }
   ],
   "source": [
    "# Looking for the value that the functions are tending to overall\n",
    "print(F[-1], H[-1])\n",
    "# The values are in ratio with the scaling factors"
   ]
  },
  {
   "cell_type": "code",
   "execution_count": 10,
   "metadata": {},
   "outputs": [
    {
     "data": {
      "text/plain": [
       "Text(0.5, 1.0, 'Outflow Solution for v(r)')"
      ]
     },
     "execution_count": 10,
     "metadata": {},
     "output_type": "execute_result"
    },
    {
     "data": {
      "image/png": "[encoded data removed]",
      "text/plain": [
       "<Figure size 432x288 with 1 Axes>"
      ]
     },
     "metadata": {
      "needs_background": "light"
     },
     "output_type": "display_data"
    }
   ],
   "source": [
    "plt.plot(X, F)\n",
    "plt.xlabel(\"x = r/r_s\")\n",
    "plt.ylabel(\"f(x) = v(r)/c_s\")\n",
    "plt.title(\"Outflow Solution for v(r)\")"
   ]
  },
  {
   "cell_type": "code",
   "execution_count": 11,
   "metadata": {},
   "outputs": [
    {
     "data": {
      "text/plain": [
       "Text(0.5, 1.0, 'Outflow Solution for log(rho(r))')"
      ]
     },
     "execution_count": 11,
     "metadata": {},
     "output_type": "execute_result"
    },
    {
     "data": {
      "image/png": "[encoded data removed]",
      "text/plain": [
       "<Figure size 432x288 with 1 Axes>"
      ]
     },
     "metadata": {
      "needs_background": "light"
     },
     "output_type": "display_data"
    }
   ],
   "source": [
    "plt.plot(X, np.log(H))\n",
    "plt.xlabel(\"x = r/r_s\")\n",
    "plt.ylabel(\"log(h(x)) = log(rho(r)/rho_0)\")\n",
    "plt.title(\"Outflow Solution for log(rho(r))\")"
   ]
  },
  {
   "cell_type": "markdown",
   "metadata": {},
   "source": [
    "# Project Step 3 - Accretion Flow with Cosmic Rays\n",
    "- Same as before, but now with a CR flow component, where pressure gradients affect the HD properties\n",
    "- Mass Continuity:\n",
    "\\begin{equation}\n",
    "        \\frac{1}{r^2} \\frac{d}{dr} (r^2 \\rho v) = 0\n",
    "\\end{equation}\n",
    "\n",
    "- Momentum:\n",
    "\\begin{equation}\n",
    "    \\rho v\\frac{dv}{dr} = -\\frac{dP}{dr} - \\frac{d{P_C}}{dr} - \\rho\\frac{GM}{r^2}\n",
    "\\end{equation}\n",
    "\n",
    "- Cosmic Ray energy equation:\n",
    "    - $\\gamma_C = 4/3$\n",
    "    - $\\gamma_g = 5/3$\n",
    "\\begin{equation}\n",
    "    \\frac{1}{r^2} \\frac{d}{dr} [\\rho (v + v_A) r^2 \\frac{\\gamma_C}{\\gamma_C - 1} \\frac{P_C}{\\rho}] = -I\n",
    "\\end{equation}\n",
    "\n",
    "- Thermal Gas energy equation: \n",
    "\\begin{equation}\n",
    "    \\frac{1}{r^2}\\frac{d}{dr}[\\rho v r^2(\\frac{v^2}{2} + \\frac{\\gamma_g}{\\gamma_g - 1} \\frac{P}{\\rho})] = -\\rho v \\frac{GM}{r^2} + I\n",
    "\\end{equation}\n",
    "\n",
    "- Energy Transfer Rate between CR and thermal fluids:\n",
    "\\begin{equation}\n",
    "    I = -(v + v_A) \\frac{d{P_C}}{dr}\n",
    "\\end{equation}\n",
    "\n",
    "\\begin{equation}\n",
    "    v_A = \\tilde{v_{A}} = \\frac{r^2_s \\sqrt{<B^2>}}{r^2\\sqrt{4\\pi\\rho}}\n",
    "\\end{equation}\n",
    "\n",
    "- $P$ is the thermal gas pressure, while $P_C$ is the cosmic ray pressure"
   ]
  },
  {
   "cell_type": "markdown",
   "metadata": {},
   "source": [
    "## Result From $B. P. B. Yu et al.$ and $S. Samui, K. Subramanian, R. Sri anand$\n",
    "\n",
    "\\begin{equation}\n",
    "    \\frac{dv}{dr} = \\frac{2vc^2_s - \\frac{GM}{r}v}{r(v^2 - c^2_s)}\n",
    "\\end{equation}\n",
    "\n",
    "\\begin{equation}\n",
    "    \\frac{dM}{dt} = 4\\pi\\rho v r^2 = const\n",
    "\\end{equation}\n",
    "\n",
    "\\begin{equation}\n",
    "    \\frac{d\\rho}{dr} = \\frac{1}{v^2}(\\frac{dP}{dr} +\\frac{dP_C}{dr} +\\rho \\frac{GM}{r^2}) - \\frac{2}{r}\\rho\n",
    "\\end{equation}\n",
    "\n",
    "\\begin{equation}\n",
    "    \\frac{dP_C}{dr} = \\frac{\\gamma_C P_C}{\\rho} \\frac{2v + v_A}{2(v + v_A)} \\frac{d\\rho}{dr}\n",
    "\\end{equation}\n",
    "\n",
    "\\begin{equation}\n",
    "    \\frac{dP}{dr} = (\\frac{\\gamma_g P}{\\rho} - \\frac{\\gamma_C P_C}{\\rho}\\frac{\\gamma_g - 1}{2}\\frac{v_{A}(2v+v_A)}{v(v+v_A)})\\frac{d\\rho}{dr}\n",
    "\\end{equation}\n",
    "\n",
    "\\begin{equation}\n",
    "    c^2_s = \\frac{\\gamma_g P_C}{\\rho} + \\frac{\\gamma_C P_C}{\\rho}\\frac{(2v + v_A)(v - (\\gamma_g - 1)v_A)}{2v(v + v_A)} \n",
    "\\end{equation}\n",
    "\n",
    "\\begin{equation}\n",
    "    v_A = \\tilde{v_{A}} = \\frac{r^2_s \\sqrt{<B^2>}}{r^2\\sqrt{4\\pi\\rho}}\n",
    "\\end{equation}\n",
    "\n"
   ]
  },
  {
   "cell_type": "markdown",
   "metadata": {},
   "source": [
    "## Rescaling the Result Equations\n",
    "- $r = r_s x$ and $v = c_s u$ and $V_c$ being the circular velocity of the gas at the critical radius is $\\sqrt{\\frac{GM}{r_s}}$\n",
    "\n",
    "\\begin{equation}\n",
    "    \\frac{dv}{dr} \\Rightarrow \\frac{du}{dx} = \\frac{2u - (\\frac{V_c}{c_s})^2 \\frac{u}{x}}{x(u^2 - 1)}\n",
    "\\end{equation}\n",
    "\n",
    "- For $v + v_A$ and $\\rho = \\rho_s y$:\n",
    "\n",
    "\\begin{equation}\n",
    "    v_A = \\tilde{v_{A}} = \\frac{r^2_s \\sqrt{<B^2>}}{r^2\\sqrt{4\\pi\\rho}} \\Rightarrow v^2_A = \\frac{8\\pi U_{B,0}}{4\\pi \\rho_s} \\frac{1}{x^4 y} = \\frac{v^2_{A,0}}{x^4 y}\n",
    "\\end{equation}\n",
    "\\begin{equation}\n",
    "    v + v_A = u c_s + \\frac{v_{A,0}}{x^2 \\sqrt{y}} = v_{eff}\n",
    "\\end{equation}\n",
    "\n",
    "- $r = r_s x$ and $\\rho = \\rho_s y$ and $P_C = P_{C,0} \\theta_C $ where $ P_{C,0}$ is the cosmic ray pressure at the critical radius\n",
    "\\begin{equation}\n",
    "    \\frac{dP_C}{dr} \\Rightarrow \\frac{d\\theta_C}{dx} = \\frac{\\theta_C}{y} \\frac{uc_s + v_{eff}}{2v_{eff}} \\frac{dy}{dx}\n",
    "\\end{equation}\n",
    "\n",
    "- $r = r_s x$ and $\\rho = \\rho_s y$ and $P = P_{0} \\theta $ where $ P_{0}$ is the thermal gas pressure at the critical radius\n",
    "\\begin{equation}\n",
    "    \\frac{dP}{dr} \\Rightarrow \\frac{d\\theta}{dx} = (\\frac{5\\theta}{3y} - \\frac{4\\theta_C}{9y} R_{CT} \\frac{\\frac{v_{A,0}}{x^2 \\sqrt{y}}(uc_s + v_{eff})}{uc_s v_{eff}}) \\frac{dy}{dx}\n",
    "\\end{equation}\n",
    "\n",
    "\\begin{equation}\n",
    "R_{CT} = \\frac{P_{C,0}}{P_0}\n",
    "\\end{equation}\n",
    "\n",
    "- $r = r_s x$ and $\\rho = \\rho_s y$:\n",
    "\\begin{equation}\n",
    "    \\frac{d\\rho}{dr} \\Rightarrow \\frac{dy}{dx} = \\frac{1}{u^2 c^2_s} (R_{T\\rho }\\frac{d\\theta}{dx} + R_{C\\rho } \\frac{d\\theta_c}{dx}  + \\frac{y V^2_c}{x^2}) - \\frac{2 y}{x}\n",
    "\\end{equation}\n",
    "\n",
    "\\begin{equation}\n",
    "R_{T\\rho } = \\frac{P_0}{\\rho_s}, R_{C\\rho } = \\frac{P_{C,0}}{\\rho_s}\n",
    "\\end{equation}"
   ]
  },
  {
   "cell_type": "markdown",
   "metadata": {},
   "source": [
    "## Step 3 with Fourth-Order Runge-Kutta Methods - Simple Sound Speed Version"
   ]
  },
  {
   "cell_type": "code",
   "execution_count": 12,
   "metadata": {},
   "outputs": [],
   "source": [
    "# Global Variables\n",
    "GM =((const.G)*(1E9*u.solMass)).decompose()\n",
    "r_s = (1000*u.pc).decompose() # critical radius\n",
    "V_c = np.sqrt(GM / r_s) # Thermal Gas Circular Velocity at critical radius\n",
    "c_s = np.sqrt(GM / (2*r_s)) # Sound Speed (Isothermal Case)\n",
    "U_B0 = ((1E-15)*(u.erg/(u.cm**3))).decompose() # Constant Magnetic Energy Density in the Galaxy\n",
    "rho_s = 1*(1.67E-27)*(u.kg/(u.m**3)) # Density at critical radius\n",
    "R_CT = 2 # Ratio between Cosmic Ray Pressure and Thermal Gas Pressure\n",
    "R_Trho = (50*(u.Pa /(u.kg/(u.m**3)))).decompose() # Ratio between Thermal Gas Pressure and density\n",
    "R_Crho = (75*(u.Pa /(u.kg/(u.m**3)))).decompose() # Ration between Cosmic Ray Pressure and density\n",
    "v_A0_2 = ((8*np.pi*U_B0) /(4*np.pi*rho_s)).decompose() # Alfven Velocity at critical radius\n",
    "\n",
    "\n",
    "#Checking Units\n",
    "#print(GM, r_s, V_c, c_s, B_0, rho_s, R_Trho, R_Crho)\n",
    "#print(np.sqrt(v_A0_2), c_s**2, U_B0)"
   ]
  },
  {
   "cell_type": "code",
   "execution_count": 41,
   "metadata": {},
   "outputs": [],
   "source": [
    "# Defining functions\n",
    "\n",
    "# v_eff (original v + v_A)\n",
    "def v_eff(x, y, u):\n",
    "    v = c_s * u\n",
    "    v_A = np.sqrt(v_A0_2) / ((x**2)*np.sqrt(y))\n",
    "    return v + v_A\n",
    "\n",
    "# du/dx (original dv/dr)\n",
    "def dudx(x, u):\n",
    "    num = 2*u - ((V_c/c_s)**2)*(u/x)\n",
    "    dem = x*(u**2 - 1)\n",
    "    return num/dem\n",
    "\n",
    "# dtheta_c/dx (original dP_c/dr)\n",
    "def dtheta_cdx(y, theta_c, u, dy):\n",
    "    a = theta_c/y\n",
    "    b = (u*c_s + v_eff(x, y, u))/(2*v_eff(x, y, u))\n",
    "    c = dy\n",
    "    return a*b*c\n",
    "\n",
    "# dtheta/dx (original dP/dr)\n",
    "def dthetadx(theta, theta_c, y, u, dy):\n",
    "    a = (5*theta)/(3*y)\n",
    "    b = ((4*theta_c)/(9*y))*R_CT\n",
    "    c = ((np.sqrt(v_A0_2)/((x**2)*np.sqrt(y)))*(u*c_s + v_eff(x, y, u)))/(u*c_s*v_eff(x, y, u))\n",
    "    return (a - b*c)*dy\n",
    "\n",
    "# dy/dx (original drho/dr)\n",
    "def dydx(x, y, u, theta, theta_c):\n",
    "    a = 1/((u**2)*(c_s**2))\n",
    "    \n",
    "    a1 = theta_c/y\n",
    "    b1 = (u*c_s + v_eff(x, y, u))/(2*v_eff(x, y, u))\n",
    "    \n",
    "    a2 = (5*theta)/(3*y)\n",
    "    b2 = ((4*theta_c)/(9*y))*R_CT\n",
    "    c2 = ((np.sqrt(v_A0_2)/((x**2)*np.sqrt(y)))*(u*c_s + v_eff(x, y, u)))/(u*c_s*v_eff(x, y, u))\n",
    "    \n",
    "    b = R_Trho*a*(a2 - b2*c2)\n",
    "    c = R_Crho*a*(a1*b1)\n",
    "    d = a*((y*(V_c**2))/(x**2))\n",
    "    e = (2*y)/x\n",
    "    return (d - e)/(1 - b - c)\n"
   ]
  },
  {
   "cell_type": "code",
   "execution_count": 73,
   "metadata": {
    "scrolled": true
   },
   "outputs": [],
   "source": [
    "# Iterations & Integrations\n",
    "Iteration = 10000 #resolution (can change for better result)\n",
    "\n",
    "#Initial value for x and step counts\n",
    "x02 = 1\n",
    "x_max2 = 10\n",
    "\n",
    "X2 = np.linspace(x02, x_max2, Iteration) #range of x-axis that we are integrating\n",
    "x_step2 = (x_max2 - x02)/Iteration\n",
    "\n",
    "# Initial values for all functions (can change to adjust whenever)\n",
    "u = 1.1 # Velocity\n",
    "y = 4 # Density\n",
    "theta = 3 # Thermal Gas Pressure\n",
    "theta_c = 7 # Cosmic Ray Pressure\n",
    "\n",
    "# Empty Arrrays for Appending All Unknown Functions\n",
    "U = np.array([])\n",
    "Y = np.array([])\n",
    "Theta = np.array([])\n",
    "Theta_C = np.array([])\n",
    "\n",
    "# Integration Process\n",
    "for x in X2:    \n",
    "    ku1 = x_step2 * dudx(x, u)\n",
    "    ky1 = x_step2 * dydx(x, y, u, theta, theta_c)\n",
    "    ktheta_c1 = x_step2 * dtheta_cdx(y, theta_c, u, dydx(x, y, u, theta, theta_c))\n",
    "    ktheta1 = x_step2 * dthetadx(theta, theta_c, y, u, dydx(x, y, u, theta, theta_c))\n",
    "    \n",
    "    ku2 = x_step2 * dudx(x+0.5*x_step2, u+0.5*ku1)\n",
    "    ky2 = x_step2 * dydx(x+0.5*x_step2, y+0.5*ky1, u+0.5*ku1, theta+0.5*ktheta1, theta_c+0.5*ktheta_c1)\n",
    "    ktheta_c2 = x_step2 * dtheta_cdx(y+0.5*ky1, theta_c+0.5*ktheta_c1, u+0.5*ku1,\n",
    "                                    dydx(x+0.5*x_step2, y+0.5*ky1, u+0.5*ku1, theta+0.5*ktheta1, \n",
    "                                         theta_c+0.5*ktheta_c1))\n",
    "    ktheta2 = x_step2 * dthetadx(theta+0.5*ktheta1, theta_c+0.5*ktheta_c1, y+0.5*ky1, u+0.5*ku1,\n",
    "                                dydx(x+0.5*x_step2, y+0.5*ky1, u+0.5*ku1, theta+0.5*ktheta1, \n",
    "                                         theta_c+0.5*ktheta_c1))\n",
    "    \n",
    "    ku3 = x_step2 * dudx(x+0.5*x_step2, u+0.5*ku2)\n",
    "    ky3 = x_step2 * dydx(x+0.5*x_step2, y+0.5*ky2, u+0.5*ku2, theta+0.5*ktheta2, theta_c+0.5*ktheta_c2)\n",
    "    ktheta_c3 = x_step2 * dtheta_cdx(y+0.5*ky2, theta_c+0.5*ktheta_c2, u+0.5*ku2,\n",
    "                                    dydx(x+0.5*x_step2, y+0.5*ky2, u+0.5*ku2, theta+0.5*ktheta2,\n",
    "                                         theta_c+0.5*ktheta_c2))\n",
    "    ktheta3 = x_step2 * dthetadx(theta+0.5*ktheta2, theta_c+0.5*ktheta_c2, y+0.5*ky2, u+0.5*ku2,\n",
    "                                dydx(x+0.5*x_step2, y+0.5*ky2, u+0.5*ku2, theta+0.5*ktheta2,\n",
    "                                         theta_c+0.5*ktheta_c2))\n",
    "    \n",
    "    ku4 = x_step2 * dudx(x+x_step2, u+ku3)\n",
    "    ky4 = x_step2 * dydx(x+x_step2, y+ky3, u+ku3, theta+ktheta3, theta_c+ktheta_c3)\n",
    "    ktheta_c4 = x_step2 * dtheta_cdx(y+ky3, theta_c+ktheta_c3, u+ku3,\n",
    "                                    dydx(x+x_step2, y+ky3, u+ku3, theta+ktheta3, theta_c+ktheta_c3))\n",
    "    ktheta4 = x_step2 * dthetadx(theta+ktheta3, theta_c+ktheta_c3, y+ky3, u+ku3,\n",
    "                                dydx(x+x_step2, y+ky3, u+ku3, theta+ktheta3, theta_c+ktheta_c3))\n",
    "    \n",
    "    u += (ku1 +2*ku2 + 2*ku3 + ku4)/6\n",
    "    y += (ky1 +2*ky2 + 2*ky3 + ky4)/6\n",
    "    theta_c += (ktheta_c1 + 2*ktheta_c2 + 2*ktheta_c3 + ktheta_c4)/6\n",
    "    theta += (ktheta1 + 2*ktheta2 + 2*ktheta3 + ktheta4)/6\n",
    "    \n",
    "    U = np.append(U, u)\n",
    "    Y = np.append(Y, y)\n",
    "    Theta_C = np.append(Theta_C, theta_c)\n",
    "    Theta = np.append(Theta, theta)"
   ]
  },
  {
   "cell_type": "code",
   "execution_count": 74,
   "metadata": {
    "scrolled": true
   },
   "outputs": [
    {
     "data": {
      "text/plain": [
       "Text(0.5, 1.0, 'Outflow Solution for v(r)')"
      ]
     },
     "execution_count": 74,
     "metadata": {},
     "output_type": "execute_result"
    },
    {
     "data": {
      "image/png": "[encoded data removed]",
      "text/plain": [
       "<Figure size 432x288 with 1 Axes>"
      ]
     },
     "metadata": {
      "needs_background": "light"
     },
     "output_type": "display_data"
    }
   ],
   "source": [
    "plt.plot(X2, U)\n",
    "plt.xlabel(\"x = r/r_s\")\n",
    "plt.ylabel(\"u(x) = v(r)/c_s\")\n",
    "plt.title(\"Outflow Solution for v(r)\")\n"
   ]
  },
  {
   "cell_type": "code",
   "execution_count": 75,
   "metadata": {},
   "outputs": [
    {
     "data": {
      "text/plain": [
       "Text(0.5, 1.0, 'Outflow Solution for log(rho(r))')"
      ]
     },
     "execution_count": 75,
     "metadata": {},
     "output_type": "execute_result"
    },
    {
     "data": {
      "image/png": "[encoded data removed]",
      "text/plain": [
       "<Figure size 432x288 with 1 Axes>"
      ]
     },
     "metadata": {
      "needs_background": "light"
     },
     "output_type": "display_data"
    }
   ],
   "source": [
    "plt.plot(X2, np.log(Y))\n",
    "plt.xlabel(\"x = r/r_s\")\n",
    "plt.ylabel(\"log(y(x)) = log(rho(r)/rho_s)\")\n",
    "plt.title(\"Outflow Solution for log(rho(r))\")"
   ]
  },
  {
   "cell_type": "code",
   "execution_count": 76,
   "metadata": {},
   "outputs": [
    {
     "data": {
      "text/plain": [
       "Text(0.5, 1.0, 'Outflow Solution for log(P_C(r))')"
      ]
     },
     "execution_count": 76,
     "metadata": {},
     "output_type": "execute_result"
    },
    {
     "data": {
      "image/png": "[encoded data removed]",
      "text/plain": [
       "<Figure size 432x288 with 1 Axes>"
      ]
     },
     "metadata": {
      "needs_background": "light"
     },
     "output_type": "display_data"
    }
   ],
   "source": [
    "plt.plot(X2, np.log(Theta_C))\n",
    "plt.xlabel(\"x = r/r_s\")\n",
    "plt.ylabel(\"log(theta_c(x)) = log(P_C(r)/P_C,0)\")\n",
    "plt.title(\"Outflow Solution for log(P_C(r))\")"
   ]
  },
  {
   "cell_type": "code",
   "execution_count": 77,
   "metadata": {},
   "outputs": [
    {
     "data": {
      "text/plain": [
       "Text(0.5, 1.0, 'Outflow Solution for log(P(r))')"
      ]
     },
     "execution_count": 77,
     "metadata": {},
     "output_type": "execute_result"
    },
    {
     "data": {
      "image/png": "[encoded data removed]",
      "text/plain": [
       "<Figure size 432x288 with 1 Axes>"
      ]
     },
     "metadata": {
      "needs_background": "light"
     },
     "output_type": "display_data"
    }
   ],
   "source": [
    "plt.plot(X2, np.log(Theta))\n",
    "plt.xlabel(\"x = r/r_s\")\n",
    "plt.ylabel(\"log(theta(x)) = log(P(r)/P_0)\")\n",
    "plt.title(\"Outflow Solution for log(P(r))\")"
   ]
  },
  {
   "cell_type": "code",
   "execution_count": null,
   "metadata": {},
   "outputs": [],
   "source": []
  }
 ],
 "metadata": {
  "kernelspec": {
   "display_name": "Python 3",
   "language": "python",
   "name": "python3"
  },
  "language_info": {
   "codemirror_mode": {
    "name": "ipython",
    "version": 3
   },
   "file_extension": ".py",
   "mimetype": "text/x-python",
   "name": "python",
   "nbconvert_exporter": "python",
   "pygments_lexer": "ipython3",
   "version": "3.8.3"
  }
 },
 "nbformat": 4,
 "nbformat_minor": 4
}
